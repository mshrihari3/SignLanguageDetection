{
 "cells": [
  {
   "cell_type": "code",
   "execution_count": 1,
   "metadata": {},
   "outputs": [],
   "source": [
    "import cv2\n",
    "import os\n",
    "import time\n",
    "import uuid"
   ]
  },
  {
   "cell_type": "code",
   "execution_count": 2,
   "metadata": {},
   "outputs": [],
   "source": [
    "IMAGES_PATH = 'Tensorflow/workspace/images/collectedimages'"
   ]
  },
  {
   "cell_type": "code",
   "execution_count": 3,
   "metadata": {},
   "outputs": [],
   "source": [
    "labels = ['hello', 'thanks', 'yes', 'no', 'iloveyou', 'iam', 'who', 'machine', 'learning', 'cool', 'life', 'dinner', 'he', 'name', 'write']"
   ]
  },
  {
   "cell_type": "code",
   "execution_count": 4,
   "metadata": {},
   "outputs": [
    {
     "name": "stdout",
     "output_type": "stream",
     "text": [
      "Collecting images for hello\n"
     ]
    }
   ],
   "source": [
    "num_imgs = 5\n",
    "label = labels[0]\n",
    "path = '~/Desktop/SignLanguageDetection/Tensorflow/workspace/images/collectedimages/'+label\n",
    "!mkdir {path}\n",
    "cap = cv2.VideoCapture(0)\n",
    "print('Collecting images for {}'.format(label))\n",
    "time.sleep(5)\n",
    "for imgnum in range(num_imgs):\n",
    "    ret, frame = cap.read()\n",
    "    imagename = os.path.join(IMAGES_PATH, label, label+'.'+'{}.jpg'.format(str(uuid.uuid1())))\n",
    "    cv2.imwrite(imagename, frame)\n",
    "    cv2.imshow('frame', frame)\n",
    "    time.sleep(3)\n",
    "    \n",
    "    if cv2.waitKey(1) & 0xFF == ord('q'):\n",
    "        break\n",
    "cap.release()"
   ]
  },
  {
   "cell_type": "code",
   "execution_count": 1,
   "metadata": {},
   "outputs": [
    {
     "name": "stdin",
     "output_type": "stream",
     "text": [
      " 5\n",
      " 0 0 1 1 0\n"
     ]
    }
   ],
   "source": [
    "n = int(input())\n",
    "array = input()\n",
    "array = array.split()\n",
    "for i in range(n):\n",
    "    array[i] = int(array[i])\n",
    "inter_state = False\n",
    "final_state = False\n",
    "for i in range(n):\n",
    "    if array[i] == 0 and inter_state == False:\n",
    "        continue\n",
    "    elif array[i]"
   ]
  },
  {
   "cell_type": "code",
   "execution_count": 66,
   "metadata": {},
   "outputs": [],
   "source": [
    "def bitwise(n,a):\n",
    "    cont = False\n",
    "    m=0\n",
    "    n=0\n",
    "    range_arr = []\n",
    "    for i in range(len(a)-1):\n",
    "        if a[i+1] > a[i]:\n",
    "            if cont==False:\n",
    "                cont = True\n",
    "                m = i\n",
    "                n = i+1\n",
    "            if cont == True:\n",
    "                n = i+1\n",
    "        else:\n",
    "            if cont == True:\n",
    "                range_arr.append((m,n))\n",
    "                cont = False\n",
    "    maxi = 0\n",
    "    for (i,j) in range_arr:\n",
    "        if j-i >= maxi:\n",
    "            maxi = j-i\n",
    "            max_i = i\n",
    "            max_j = j\n",
    "            \n",
    "    counti = 0\n",
    "    countj = 0\n",
    "    counter = False\n",
    "    count = []\n",
    "    for i in range(max_i, max_j):\n",
    "        if (a[i]&a[i+1])*2 < (a[i]|a[i+1]):\n",
    "            if counter == False:\n",
    "                counti = i\n",
    "                countj = i+1\n",
    "                counter = True\n",
    "            else:\n",
    "                countj = i+1\n",
    "        else:\n",
    "            if counter:\n",
    "                counter = False\n",
    "                count.append((counti, countj))\n",
    "    if counter and len(count) == 0:\n",
    "        count.append((counti, countj))\n",
    "    print(count)"
   ]
  },
  {
   "cell_type": "code",
   "execution_count": 69,
   "metadata": {},
   "outputs": [
    {
     "name": "stdout",
     "output_type": "stream",
     "text": [
      "[(2, 3)]\n"
     ]
    }
   ],
   "source": [
    "bitwise(6, [9,17,2,15,5,2])"
   ]
  },
  {
   "cell_type": "code",
   "execution_count": 61,
   "metadata": {},
   "outputs": [
    {
     "data": {
      "text/plain": [
       "True"
      ]
     },
     "execution_count": 61,
     "metadata": {},
     "output_type": "execute_result"
    }
   ],
   "source": [
    "(5&12)*2 < (5|12)"
   ]
  },
  {
   "cell_type": "code",
   "execution_count": null,
   "metadata": {},
   "outputs": [],
   "source": [
    "def gift(n,k):\n",
    "    for i in range(n)"
   ]
  },
  {
   "cell_type": "code",
   "execution_count": 6,
   "metadata": {},
   "outputs": [],
   "source": [
    "def countPrimes(input1):\n",
    "    def gcd(a,b):\n",
    "     \n",
    "        if (b == 0):\n",
    "             return a\n",
    "        return gcd(b, a%b)\n",
    "\n",
    "    count = 0\n",
    "    for i in range(1, input1+1):\n",
    "        if gcd(i, input1) == 1:\n",
    "            count += 1\n",
    "    return count"
   ]
  },
  {
   "cell_type": "code",
   "execution_count": 7,
   "metadata": {},
   "outputs": [
    {
     "data": {
      "text/plain": [
       "2"
      ]
     },
     "execution_count": 7,
     "metadata": {},
     "output_type": "execute_result"
    }
   ],
   "source": [
    "countPrimes(4)"
   ]
  },
  {
   "cell_type": "code",
   "execution_count": 3,
   "metadata": {},
   "outputs": [],
   "source": [
    "def remainder(input1):\n",
    "    new_input = int(input1)\n",
    "    return new_input % 11"
   ]
  },
  {
   "cell_type": "code",
   "execution_count": 4,
   "metadata": {},
   "outputs": [
    {
     "data": {
      "text/plain": [
       "0"
      ]
     },
     "execution_count": 4,
     "metadata": {},
     "output_type": "execute_result"
    }
   ],
   "source": [
    "remainder(\"121\")"
   ]
  },
  {
   "cell_type": "code",
   "execution_count": null,
   "metadata": {},
   "outputs": [],
   "source": []
  }
 ],
 "metadata": {
  "kernelspec": {
   "display_name": "Python 3",
   "language": "python",
   "name": "python3"
  },
  "language_info": {
   "codemirror_mode": {
    "name": "ipython",
    "version": 3
   },
   "file_extension": ".py",
   "mimetype": "text/x-python",
   "name": "python",
   "nbconvert_exporter": "python",
   "pygments_lexer": "ipython3",
   "version": "3.8.3"
  }
 },
 "nbformat": 4,
 "nbformat_minor": 4
}
